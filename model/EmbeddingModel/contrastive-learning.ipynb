{
 "cells": [
  {
   "cell_type": "code",
   "execution_count": null,
   "metadata": {},
   "outputs": [],
   "source": [
    "!pip install numpy tqdm scikit-learn tensorflow keras"
   ]
  },
  {
   "cell_type": "code",
   "execution_count": 5,
   "metadata": {},
   "outputs": [],
   "source": [
    "# Import packages needed\n",
    "import os\n",
    "import numpy as np\n",
    "import keras\n",
    "\n",
    "from tqdm import tqdm\n",
    "from sklearn.model_selection import train_test_split\n"
   ]
  },
  {
   "cell_type": "code",
   "execution_count": null,
   "metadata": {},
   "outputs": [],
   "source": [
    "# Function for reading all the image from the dataset folder\n",
    "def get_data():\n",
    "    # read all the folders\n",
    "    data_path = \"../dataset/Musinsa_dataset\"\n",
    "    folders = os.listdir(data_path)\n",
    "\n",
    "    # read all the images inside the folders\n",
    "    style2index = []\n",
    "    images = []\n",
    "    labels = []\n",
    "    for i in range(len(folders)):\n",
    "        folder = folders[i]\n",
    "        folder_path = f\"{data_path}/{folder}\"\n",
    "\n",
    "        if not os.path.isdir(folder_path):\n",
    "            continue\n",
    "\n",
    "        files = os.listdir(folder_path)\n",
    "        print(folder)\n",
    "\n",
    "        for file in tqdm(files):\n",
    "            try:\n",
    "                image = keras.preprocessing.image.load_img(data_path + \"/\" + folder + \"/\" + file, target_size=(224, 224))\n",
    "                image = keras.preprocessing.image.img_to_array(image)\n",
    "                images.append(image)\n",
    "                labels.append(i)\n",
    "            except Exception as e:\n",
    "                print(f\"Error reading image {file}: {e}\")\n",
    "                continue\n",
    "        style2index.append({folder: i})\n",
    "\n",
    "    return images, labels, style2index"
   ]
  },
  {
   "cell_type": "code",
   "execution_count": 8,
   "metadata": {},
   "outputs": [
    {
     "ename": "FileNotFoundError",
     "evalue": "[Errno 2] No such file or directory: '../data'",
     "output_type": "error",
     "traceback": [
      "\u001b[0;31m---------------------------------------------------------------------------\u001b[0m",
      "\u001b[0;31mFileNotFoundError\u001b[0m                         Traceback (most recent call last)",
      "Cell \u001b[0;32mIn[8], line 1\u001b[0m\n\u001b[0;32m----> 1\u001b[0m image, labels, style2index \u001b[38;5;241m=\u001b[39m \u001b[43mget_data\u001b[49m\u001b[43m(\u001b[49m\u001b[43m)\u001b[49m\n\u001b[1;32m      2\u001b[0m \u001b[38;5;28mprint\u001b[39m(\u001b[38;5;28mlen\u001b[39m(image), \u001b[38;5;28mlen\u001b[39m(labels))\n\u001b[1;32m      3\u001b[0m \u001b[38;5;28mprint\u001b[39m(style2index)\n",
      "Cell \u001b[0;32mIn[7], line 5\u001b[0m, in \u001b[0;36mget_data\u001b[0;34m()\u001b[0m\n\u001b[1;32m      2\u001b[0m \u001b[38;5;28;01mdef\u001b[39;00m \u001b[38;5;21mget_data\u001b[39m():\n\u001b[1;32m      3\u001b[0m     \u001b[38;5;66;03m# read all the folders\u001b[39;00m\n\u001b[1;32m      4\u001b[0m     data_path \u001b[38;5;241m=\u001b[39m \u001b[38;5;124m\"\u001b[39m\u001b[38;5;124m../data\u001b[39m\u001b[38;5;124m\"\u001b[39m\n\u001b[0;32m----> 5\u001b[0m     folders \u001b[38;5;241m=\u001b[39m \u001b[43mos\u001b[49m\u001b[38;5;241;43m.\u001b[39;49m\u001b[43mlistdir\u001b[49m\u001b[43m(\u001b[49m\u001b[43mdata_path\u001b[49m\u001b[43m)\u001b[49m\n\u001b[1;32m      7\u001b[0m     \u001b[38;5;66;03m# read all the images inside the folders\u001b[39;00m\n\u001b[1;32m      8\u001b[0m     style2index \u001b[38;5;241m=\u001b[39m []\n",
      "\u001b[0;31mFileNotFoundError\u001b[0m: [Errno 2] No such file or directory: '../data'"
     ]
    }
   ],
   "source": [
    "image, labels, style2index = get_data()\n",
    "print(len(image), len(labels))\n",
    "print(style2index)"
   ]
  },
  {
   "cell_type": "code",
   "execution_count": null,
   "metadata": {},
   "outputs": [],
   "source": [
    "X_train, X_test, y_train, y_test = train_test_split(image, labels, test_size=0.2, random_state=42)\n",
    "\n",
    "print(f\"train set size: {len(X_train)}, {len(y_train)}\")\n",
    "print(f\"test set size: {len(X_test)}, {len(y_test)}\")"
   ]
  },
  {
   "cell_type": "code",
   "execution_count": null,
   "metadata": {},
   "outputs": [],
   "source": [
    "X_train = np.array([np.array(image).reshape(224, 224, 3) for image in X_train])\n",
    "X_test = np.array([np.array(image).reshape(224, 224, 3) for image in X_test])"
   ]
  },
  {
   "cell_type": "code",
   "execution_count": null,
   "metadata": {},
   "outputs": [],
   "source": [
    "def generate_pair(X, y):\n",
    "    \"\"\"\n",
    "        For contrastive learning, we need the dataset in pair.\n",
    "        There should exist \n",
    "        Input: X(image), y(label)\n",
    "        Output: X_pairs(image pair), y_pairs(label pair)\n",
    "    \"\"\"\n",
    "    X_pairs = []\n",
    "    y_pairs = []\n",
    "\n",
    "    for i in range(len(X)):\n",
    "        digit = y[i]\n",
    "        \n",
    "        positive_digit_index = np.random.choice(np.where(y==digit)[0])\n",
    "        X_pairs.append([X[i], X[positive_digit_index]])\n",
    "        y_pairs.append([0])\n",
    "\n",
    "        negative_digit_index = np.random.choice(np.where(y!=digit)[0])\n",
    "        X_pairs.append(X[i], X[negative_digit_index])\n",
    "        y_pairs.append([1])\n",
    "\n",
    "    indices = np.arange(len(X_pairs))\n",
    "    np.random.shuffle(indices)\n",
    "\n",
    "    return np.array(X_pairs)[indices], np.array(y_pairs)[indices]"
   ]
  },
  {
   "cell_type": "code",
   "execution_count": null,
   "metadata": {},
   "outputs": [],
   "source": [
    "X_train_pairs, Y_train_pairs = generate_pair(X_train, y_train)\n",
    "X_test_pairs, Y_test_pairs = generate_pair(X_test, y_test)\n",
    "\n",
    "print(\"X_train_pairs shape: \", X_train_pairs.shape)\n",
    "print(\"X_test_pairs shape: \", X_test_pairs.shape)"
   ]
  }
 ],
 "metadata": {
  "kernelspec": {
   "display_name": "Python 3 (ipykernel)",
   "language": "python",
   "name": "python3"
  },
  "language_info": {
   "codemirror_mode": {
    "name": "ipython",
    "version": 3
   },
   "file_extension": ".py",
   "mimetype": "text/x-python",
   "name": "python",
   "nbconvert_exporter": "python",
   "pygments_lexer": "ipython3",
   "version": "3.10.12"
  }
 },
 "nbformat": 4,
 "nbformat_minor": 2
}
